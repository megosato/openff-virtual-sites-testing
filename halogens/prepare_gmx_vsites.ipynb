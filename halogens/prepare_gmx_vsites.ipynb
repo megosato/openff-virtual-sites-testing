{
 "cells": [
  {
   "cell_type": "code",
   "execution_count": 7,
   "id": "b3047aa0-3202-4588-a8d4-edd68eb81292",
   "metadata": {},
   "outputs": [
    {
     "data": {
      "text/plain": [
       "'0.16.6'"
      ]
     },
     "execution_count": 7,
     "metadata": {},
     "output_type": "execute_result"
    }
   ],
   "source": [
    "import openff.toolkit\n",
    "openff.toolkit.__version__"
   ]
  },
  {
   "cell_type": "code",
   "execution_count": 8,
   "id": "434422f4-7b50-4069-b81a-63d297dd4a86",
   "metadata": {},
   "outputs": [],
   "source": [
    "from openff.toolkit import Molecule, ForceField, unit\n",
    "from openff.interchange.components._packmol import solvate_topology"
   ]
  },
  {
   "cell_type": "code",
   "execution_count": 9,
   "id": "bf35f694-b36e-491d-800c-fc511ee0ba51",
   "metadata": {},
   "outputs": [],
   "source": [
    "import json\n",
    "import numpy as np\n",
    "from rdkit import Chem\n",
    "from openeye import oeomega,oechem\n",
    "\n",
    "from pathlib import Path"
   ]
  },
  {
   "cell_type": "code",
   "execution_count": 10,
   "id": "8a412625-fb43-4b98-a498-35154d0536f4",
   "metadata": {},
   "outputs": [],
   "source": [
    "mol_ids = [\n",
    "    #'mobley_7326706',\n",
    "    # 'mobley_6474572',\n",
    "    # 'mobley_6257907',\n",
    "    # 'mobley_2178600',\n",
    "    # 'mobley_4850657',\n",
    "    # 'mobley_8117218',\n",
    "    # 'mobley_7047032',\n",
    "    # 'mobley_2523689',\n",
    "    # 'mobley_4603202',\n",
    "    # 'mobley_2481002'\n",
    "\n",
    "    # 'mobley_9557440',\n",
    "    # 'mobley_6195751',\n",
    "    # 'mobley_6334915',\n",
    "\n",
    "    'mobley_9015240'\n",
    "    \n",
    "]"
   ]
  },
  {
   "cell_type": "code",
   "execution_count": 22,
   "id": "b89ab5cd-809c-4982-a670-5d7bd1868251",
   "metadata": {},
   "outputs": [],
   "source": [
    "with open(\"database.json\", 'r') as infile:\n",
    "    db = json.load(infile)"
   ]
  },
  {
   "cell_type": "code",
   "execution_count": 16,
   "id": "24c4211d-4eb2-46ea-9b37-f0fedbc06851",
   "metadata": {},
   "outputs": [
    {
     "name": "stdout",
     "output_type": "stream",
     "text": [
      "[Molecule with name 'mobley_9015240' and SMILES '[H]C([H])([H])C([H])([H])C([H])([H])C([H])([H])C([H])([H])C([H])([H])C([H])([H])C([H])([H])Br']\n"
     ]
    }
   ],
   "source": [
    "mols = []\n",
    "for mol_id in mol_ids:\n",
    "    offmol = Molecule.from_rdkit(Chem.AddHs(Chem.MolFromSmiles(f\"{db[mol_id]['smiles']} {mol_id}\")))\n",
    "\n",
    "    oemol = Molecule.to_openeye(offmol)\n",
    "\n",
    "    omega = oeomega.OEOmega()\n",
    "    omega.SetMaxConfs(1)\n",
    "    omega.SetIncludeInput(False)\n",
    "\n",
    "    status = omega(oemol)\n",
    "\n",
    "    offmol_conf = Molecule.from_openeye(oemol)\n",
    "\n",
    "    #offmol_conf.assign_partial_charges('am1bccelf10')\n",
    "\n",
    "    mols.append(offmol_conf)\n",
    "\n",
    "print(mols)"
   ]
  },
  {
   "cell_type": "code",
   "execution_count": 19,
   "id": "7a799fd5-2f3c-4d3f-95a8-9ca03c1b5708",
   "metadata": {},
   "outputs": [],
   "source": [
    "ff = ForceField(\"vsites-v3_n2r-vdw-dimers_hmix-only-v2-torsions.offxml\")\n",
    "mol = mols[0]\n",
    "ic = ff.create_interchange(topology=mol.to_topology())"
   ]
  },
  {
   "cell_type": "code",
   "execution_count": 21,
   "id": "d8e03498-0862-495c-8b96-6058ef52da3c",
   "metadata": {},
   "outputs": [],
   "source": [
    "ic.box = np.array([[2, 0, 0], [0, 2, 0], [0, 0, 2]])\n",
    "\n",
    "ic.to_gro(str(\"/Users/megosato/Desktop/solvent.gro\"))\n",
    "ic.to_top(str(\"/Users/megosato/Desktop/solvent.top\"))"
   ]
  },
  {
   "cell_type": "code",
   "execution_count": 17,
   "id": "b70be09d-c4af-4ec2-b530-6ee1773db5e8",
   "metadata": {},
   "outputs": [
    {
     "name": "stdout",
     "output_type": "stream",
     "text": [
      "Molecule with name 'mobley_9015240' and SMILES '[H]C([H])([H])C([H])([H])C([H])([H])C([H])([H])C([H])([H])C([H])([H])C([H])([H])C([H])([H])Br'\n"
     ]
    }
   ],
   "source": [
    "# assign parameters using openff toolkit -> openff interchange\n",
    "for mol in mols:\n",
    "\n",
    "    print(mol)\n",
    "    \n",
    "    ff = ForceField(\"vsites-v3_n2r-vdw-dimers_hmix-only-v2-torsions.offxml\")\n",
    "\n",
    "    d = 1.6\n",
    "    box_shape = np.array([[2, 0, 0], [0, 2, 0], [0, 0, 2]])\n",
    "    solv_top = solvate_topology(mol.to_topology(), tolerance=1.0 * unit.angstrom, box_shape=box_shape)\n",
    "\n",
    "\n",
    "\n",
    "    # RENAME THE MOLECULES\n",
    "    for m in solv_top.molecules:\n",
    "        if m.to_smiles() == '[H]O[H]':\n",
    "            for atom in m.atoms:\n",
    "                atom.metadata[\"residue_name\"] = \"HOH\"     \n",
    "            m.name = \"HOH\"\n",
    "            \n",
    "        elif m.to_smiles() == '[Na+]':\n",
    "            for atom in m.atoms:\n",
    "                atom.metadata[\"residue_name\"] = \"NA\"\n",
    "            m.name = \"NA\"\n",
    "        elif m.to_smiles() == '[Cl-]':\n",
    "            for atom in m.atoms:\n",
    "                atom.metadata[\"residue_name\"] = \"CL\"\n",
    "            m.name = 'CL'\n",
    "        else:\n",
    "            for atom in m.atoms:\n",
    "                atom.metadata[\"residue_name\"] = \"UNK\"\n",
    "            m.name = 'UNK'\n",
    "\n",
    "    ic = ff.create_interchange(topology=solv_top)\n",
    "\n",
    "    save_dir = Path(f\"./vsites/{mol.name}\")\n",
    "    save_dir.mkdir(exist_ok=True, parents=True)\n",
    "\n",
    "    ic.to_gro(str(save_dir / \"solvent.gro\"))\n",
    "    ic.to_top(str(save_dir / \"solvent.top\"))\n",
    "    "
   ]
  },
  {
   "cell_type": "code",
   "execution_count": null,
   "id": "531d46d0-22b0-4069-9032-a3553dd50ede",
   "metadata": {},
   "outputs": [],
   "source": []
  }
 ],
 "metadata": {
  "kernelspec": {
   "display_name": "Python 3 (ipykernel)",
   "language": "python",
   "name": "python3"
  },
  "language_info": {
   "codemirror_mode": {
    "name": "ipython",
    "version": 3
   },
   "file_extension": ".py",
   "mimetype": "text/x-python",
   "name": "python",
   "nbconvert_exporter": "python",
   "pygments_lexer": "ipython3",
   "version": "3.12.7"
  }
 },
 "nbformat": 4,
 "nbformat_minor": 5
}
